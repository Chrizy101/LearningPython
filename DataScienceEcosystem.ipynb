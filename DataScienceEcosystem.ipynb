{
 "cells": [
  {
   "cell_type": "markdown",
   "id": "2a50c20b-8f75-424d-bef5-de28240ad326",
   "metadata": {},
   "source": [
    "# Data Science Tools and Ecosystem"
   ]
  },
  {
   "cell_type": "markdown",
   "id": "8b3007af-c434-43e8-b5a8-2e2131e03085",
   "metadata": {},
   "source": [
    "In this notebook, Data Science Tools and Ecosystem are summarized."
   ]
  },
  {
   "cell_type": "markdown",
   "id": "7731f791-afdd-4f2c-bb86-c8048da35e8b",
   "metadata": {},
   "source": [
    "**Objectives:**\n",
    "- List popular languages in Python\n",
    "- List commonly used libraries in Data Science\n",
    "- Create a table with data science tools"
   ]
  },
  {
   "cell_type": "markdown",
   "id": "a4328daf-9fb8-45a4-a0ff-9ec783af0c22",
   "metadata": {},
   "source": [
    "Some of the popular languages that Data Scientists use are:\n",
    "1. python\n",
    "2. R\n",
    "3. SQL"
   ]
  },
  {
   "cell_type": "markdown",
   "id": "37b232fa-a8bc-4579-b574-a0019d23328a",
   "metadata": {},
   "source": [
    "Some of the commonly used libraries used by Data Scientists include:\n",
    "\n",
    "1. Pandas\n",
    "2. NumPy\n",
    "3. PyTorch"
   ]
  },
  {
   "cell_type": "markdown",
   "id": "9e86cc73-3fb7-4a19-8a9f-a968d312fc37",
   "metadata": {},
   "source": [
    "|Data Science Tools|\n",
    "|------------------|\n",
    "|Spyder|\n",
    "|Jupyter Notebook|\n",
    "|VS Code|"
   ]
  },
  {
   "cell_type": "markdown",
   "id": "8e2f17b7-c997-4316-98d1-c4774f10cdcf",
   "metadata": {},
   "source": [
    "### Below are a few examples of evaluating arithmetic expressions in Python"
   ]
  },
  {
   "cell_type": "code",
   "execution_count": 10,
   "id": "b6ff93f7-acf2-48b0-8e6b-4f935db07684",
   "metadata": {},
   "outputs": [
    {
     "data": {
      "text/plain": [
       "17"
      ]
     },
     "execution_count": 10,
     "metadata": {},
     "output_type": "execute_result"
    }
   ],
   "source": [
    "#This a simple arithmetic expression to mutiply then add integers\n",
    "(3*4)+5"
   ]
  },
  {
   "cell_type": "code",
   "execution_count": 12,
   "id": "7eb51f9c-5dfe-4395-a193-c31c3a8be278",
   "metadata": {},
   "outputs": [
    {
     "data": {
      "text/plain": [
       "3.3333333333333335"
      ]
     },
     "execution_count": 12,
     "metadata": {},
     "output_type": "execute_result"
    }
   ],
   "source": [
    "#This will convert 200 minutes to hours by diving by 60\n",
    "200/60"
   ]
  },
  {
   "cell_type": "markdown",
   "id": "0542b42e-b05b-4522-aeed-e0304c933a48",
   "metadata": {},
   "source": [
    "## Author\n",
    "Ugochukwu Agwuna\n"
   ]
  },
  {
   "cell_type": "code",
   "execution_count": null,
   "id": "329b5639-3f66-4be9-aec3-158ddca8c3ac",
   "metadata": {},
   "outputs": [],
   "source": []
  }
 ],
 "metadata": {
  "kernelspec": {
   "display_name": "Python [conda env:base] *",
   "language": "python",
   "name": "conda-base-py"
  },
  "language_info": {
   "codemirror_mode": {
    "name": "ipython",
    "version": 3
   },
   "file_extension": ".py",
   "mimetype": "text/x-python",
   "name": "python",
   "nbconvert_exporter": "python",
   "pygments_lexer": "ipython3",
   "version": "3.12.7"
  }
 },
 "nbformat": 4,
 "nbformat_minor": 5
}
